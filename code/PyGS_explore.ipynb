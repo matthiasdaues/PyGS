{
 "cells": [
  {
   "attachments": {},
   "cell_type": "markdown",
   "metadata": {},
   "source": [
    "Go and understand this: https://docs.geoserver.org/stable/en/user/security/passwd.html\n",
    "\n",
    "And this: http://www.jasypt.org/encrypting-passwords.html\n",
    "\n",
    "note: When using a random salt generator, two digests created for the same message will always be different (except in the case of random salt coincidence or no usage of salt). Because of this, in this case the result of the digest method will contains both the undigested salt and the digest of salt+message, so that another digest operation can be performed with the same salt on a different message to check if both messages match (all of which will be managed automatically by the matches method).\n",
    "\n"
   ]
  },
  {
   "attachments": {},
   "cell_type": "markdown",
   "metadata": {},
   "source": [
    "Take a known encrypted password from a geosever users.xml, e.g. \n",
    "\n",
    "```D9miJH/hVgfxZJscMafEtbtliG0ROxhLfsznyWfG38X2pda2JOSV4POi55PQI4tw```\n",
    "\n",
    "This is the result of hashing the standard admin password \"geoserver\" and a random 16 byte salt for 100.000 iterations and then prepending the last hash with the undigested salt.\n",
    "\n",
    "From these instructions we can in principle build a geoserver password generator that will produce a valid admin password at container startup to be copied into the geoserver data dir.\n",
    "\n",
    "Let's first try and find out whether we can produce the encrypted password by extracting the first 16 bytes and performing the hashing operation.\n"
   ]
  },
  {
   "cell_type": "code",
   "execution_count": 3,
   "metadata": {},
   "outputs": [
    {
     "name": "stdout",
     "output_type": "stream",
     "text": [
      "Success. This works.\n"
     ]
    }
   ],
   "source": [
    "import hashlib\n",
    "import base64\n",
    "\n",
    "# Known inputs: Password and Hash\n",
    "password = \"geoserver\"\n",
    "pw_hash = \"D9miJH/hVgfxZJscMafEtbtliG0ROxhLfsznyWfG38X2pda2JOSV4POi55PQI4tw\"\n",
    "\n",
    "def prepend_and_hash(password, pw_hash):\n",
    "    \"\"\"\n",
    "    This function takes a known password and its known hash as stored in the \n",
    "    data directory and then reverse engineers the hashing procedure as out-\n",
    "    lined in the jasypt documentation using the parameters from the kartoza\n",
    "    geoserver docker file.\n",
    "    \"\"\"\n",
    "    # Decode the Base64 encoded string\n",
    "    decoded_bytes = base64.b64decode(pw_hash)\n",
    "    first_16_bytes = decoded_bytes[:16]\n",
    "\n",
    "    # Prepend the first 16 bytes to the input string\n",
    "    # The first 16 bytes are the random salt used for\n",
    "    # obfuscating the password as such.\n",
    "    prepended_string = first_16_bytes + password.encode()\n",
    "\n",
    "    # Perform 100,000 iterations of SHA-256 hashing\n",
    "    sha256_hash = prepended_string\n",
    "    for _ in range(100000):\n",
    "        sha256_hash = hashlib.sha256(sha256_hash).digest()\n",
    "\n",
    "    # Prepend the first 16 bytes to the final hash\n",
    "    # in their undigested form to allow password matching\n",
    "    final_hash = first_16_bytes + sha256_hash\n",
    "\n",
    "    # Convert the final hash to a text string\n",
    "    base64_encoded = base64.b64encode(final_hash)\n",
    "\n",
    "    output_string = base64_encoded.decode()\n",
    "\n",
    "    return output_string\n",
    "\n",
    "\n",
    "\n",
    "hashed_value = prepend_and_hash(password, pw_hash)\n",
    "if hashed_value == pw_hash:\n",
    "    print(\"Success. This works.\")\n",
    "else:\n",
    "    print(\"Go home and think again.\")\n",
    "\n"
   ]
  }
 ],
 "metadata": {
  "kernelspec": {
   "display_name": ".venv",
   "language": "python",
   "name": "python3"
  },
  "language_info": {
   "codemirror_mode": {
    "name": "ipython",
    "version": 3
   },
   "file_extension": ".py",
   "mimetype": "text/x-python",
   "name": "python",
   "nbconvert_exporter": "python",
   "pygments_lexer": "ipython3",
   "version": "3.10.6"
  },
  "orig_nbformat": 4
 },
 "nbformat": 4,
 "nbformat_minor": 2
}
