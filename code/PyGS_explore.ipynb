{
 "cells": [
  {
   "cell_type": "code",
   "execution_count": 1,
   "metadata": {},
   "outputs": [
    {
     "name": "stdout",
     "output_type": "stream",
     "text": [
      "<userRegistry xmlns=\"http://www.geoserver.org/security/users\" version=\"1.0\"><users><user enabled=\"true\" name=\"admin\" password=\"password\" /></users><groups /></userRegistry>\n"
     ]
    }
   ],
   "source": [
    "import xml.etree.ElementTree as ET\n",
    "\n",
    "# Variables\n",
    "name = \"admin\"\n",
    "password = \"password\"\n",
    "\n",
    "# Create the root element\n",
    "root = ET.Element(\"userRegistry\")\n",
    "root.set(\"xmlns\", \"http://www.geoserver.org/security/users\")\n",
    "root.set(\"version\", \"1.0\")\n",
    "\n",
    "# Create the users element\n",
    "users = ET.SubElement(root, \"users\")\n",
    "\n",
    "# Create the user element\n",
    "user = ET.SubElement(users, \"user\")\n",
    "user.set(\"enabled\", \"true\")\n",
    "user.set(\"name\", name)\n",
    "user.set(\"password\", password)\n",
    "\n",
    "# Create the groups element\n",
    "groups = ET.SubElement(root, \"groups\")\n",
    "\n",
    "# Create the XML string\n",
    "xml_string = ET.tostring(root, encoding=\"utf-8\").decode()\n",
    "\n",
    "# Print the XML output\n",
    "print(xml_string)\n"
   ]
  },
  {
   "cell_type": "code",
   "execution_count": 2,
   "metadata": {},
   "outputs": [
    {
     "name": "stdout",
     "output_type": "stream",
     "text": [
      "{'base_path': '../outputs', 'usergroups': [{'name': 'default', 'users': ['admin', 'alice', 'bob']}, {'name': 'new', 'users': ['xavier', 'yael', 'zoe']}], 'paths': {'secret_path': '../outputs/secrets', 'gs_data_dir': '../outputs/gs_data_dir', 'gs_security': '../outputs/gs_data_dir/security', 'gs_sec_usergroup': '../outputs/gs_data_dir/security/usergroup'}, 'stored_secrets': '../outputs/secrets/secrets.txt'}\n",
      "INFO: Path '../outputs/secrets' already exists.\n",
      "INFO: Path '../outputs/gs_data_dir' has been created.\n",
      "INFO: Path '../outputs/gs_data_dir/security' has been created.\n",
      "INFO: Path '../outputs/gs_data_dir/security/usergroup' has been created.\n",
      "INFO: secret.txt already exists.\n"
     ]
    }
   ],
   "source": [
    "import utils\n",
    "import core\n",
    "\n",
    "config = '../inputs/config.yml'\n",
    "\n",
    "configuration = utils.read_configuration(config)\n",
    "print(configuration)\n",
    "\n",
    "core.create_local_folders_and_files(config)\n",
    "#users = core.create_user_credentials(config)\n",
    "\n",
    "#core.xml_users(users)\n"
   ]
  }
 ],
 "metadata": {
  "kernelspec": {
   "display_name": ".venv",
   "language": "python",
   "name": "python3"
  },
  "language_info": {
   "codemirror_mode": {
    "name": "ipython",
    "version": 3
   },
   "file_extension": ".py",
   "mimetype": "text/x-python",
   "name": "python",
   "nbconvert_exporter": "python",
   "pygments_lexer": "ipython3",
   "version": "3.10.6"
  },
  "orig_nbformat": 4
 },
 "nbformat": 4,
 "nbformat_minor": 2
}
